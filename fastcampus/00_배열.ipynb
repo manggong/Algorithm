{
 "cells": [
  {
   "cell_type": "markdown",
   "id": "b0621bda",
   "metadata": {},
   "source": [
    "# 배열 (Array)"
   ]
  },
  {
   "cell_type": "markdown",
   "id": "4620f937",
   "metadata": {},
   "source": [
    "- 테이터를 나열하고, 각 테이터를 인덱스에 대응하도록 구성한 데이터 구조\n",
    "- 파이썬에서는 리스트 타입이 배열 기능을 제공 함"
   ]
  },
  {
   "cell_type": "markdown",
   "id": "dfd777ae",
   "metadata": {},
   "source": [
    "## 1. 배열이 왜 필요할까?"
   ]
  },
  {
   "cell_type": "markdown",
   "id": "b418a9ef",
   "metadata": {},
   "source": [
    "- 같은 종류의 데이터를 효율적으로 관리하게 위해 사용\n",
    "- 같은 종류의 데이터를 순차적으로 저장"
   ]
  },
  {
   "cell_type": "markdown",
   "id": "9cf6daea",
   "metadata": {},
   "source": [
    "- 배열의 장점\n",
    "    - 빠른 접근 가능\n",
    "- 배열의 단점\n",
    "    - 데이터의 추가, 삭제가 쉽지 않음"
   ]
  },
  {
   "cell_type": "markdown",
   "id": "ce26c189",
   "metadata": {},
   "source": [
    "## 2. 파이썬과 C언어의 배열 예제"
   ]
  },
  {
   "cell_type": "code",
   "execution_count": 4,
   "id": "9d50c59c",
   "metadata": {},
   "outputs": [
    {
     "ename": "SyntaxError",
     "evalue": "invalid syntax (<ipython-input-4-49903325eca5>, line 3)",
     "output_type": "error",
     "traceback": [
      "\u001b[0;36m  File \u001b[0;32m\"<ipython-input-4-49903325eca5>\"\u001b[0;36m, line \u001b[0;32m3\u001b[0m\n\u001b[0;31m    int main(int argc, char*argv[])\u001b[0m\n\u001b[0m        ^\u001b[0m\n\u001b[0;31mSyntaxError\u001b[0m\u001b[0;31m:\u001b[0m invalid syntax\n"
     ]
    }
   ],
   "source": [
    "#include <stdio.h>\n",
    "\n",
    "int main(int argc, char*argv[])\n",
    "{\n",
    "    char conutry[3] = 'US';\n",
    "    printf (\"%c%c\\n\", conutry[0], country[1]);\n",
    "    printf (\"%s\\n\", conutry);\n",
    "    return 0;\n",
    "}"
   ]
  },
  {
   "cell_type": "code",
   "execution_count": 6,
   "id": "2b73a538",
   "metadata": {},
   "outputs": [
    {
     "name": "stdout",
     "output_type": "stream",
     "text": [
      "US\n",
      "USA\n"
     ]
    }
   ],
   "source": [
    "conutry = 'US'\n",
    "print(conutry)\n",
    "\n",
    "conutry = conutry + 'A'\n",
    "print(conutry)"
   ]
  },
  {
   "cell_type": "code",
   "execution_count": null,
   "id": "c610942e",
   "metadata": {},
   "outputs": [],
   "source": []
  }
 ],
 "metadata": {
  "kernelspec": {
   "display_name": "Python 3",
   "language": "python",
   "name": "python3"
  },
  "language_info": {
   "codemirror_mode": {
    "name": "ipython",
    "version": 3
   },
   "file_extension": ".py",
   "mimetype": "text/x-python",
   "name": "python",
   "nbconvert_exporter": "python",
   "pygments_lexer": "ipython3",
   "version": "3.9.4"
  }
 },
 "nbformat": 4,
 "nbformat_minor": 5
}
